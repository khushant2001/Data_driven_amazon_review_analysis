{
  "cells": [
    {
      "cell_type": "markdown",
      "source": [
        "#Data Driven Problem Solving Final Project Part II\n",
        "\n",
        "#Mapping Amazon Food Reviews to Stars\n",
        "#Writers: Irene Won Choi & Khushant Khurana\n",
        "---\n",
        "For this project, a neural network is created using Pytorch to map the amazon reviews on food items to the corresponding stars. Models like such are extremely important in determining a quantitative analysis for the specified food. While the review can help the restaurant by giving detials, quantitative analysis like stars can be used for marketting because of their anonymous nature. The datasetfor this project is derived from Kaggle: https://www.kaggle.com/code/robikscube/sentiment-analysis-python-youtube-tutorial/input. The dataset contains about 568454 reviews and the categories for given stars are 1, 2, 3, 4, and 5. Treating it as a classification problem, variation of hyper-parameters is used to tune the model and the network is also evolved into a deep network by adding more layers and the final accuracies are compared.\n"
      ],
      "metadata": {
        "id": "oQFAcoM4URhH"
      }
    },
    {
      "cell_type": "markdown",
      "source": [
        "#Downloading required libraries: <a name=\"Download\"></a></font>\n",
        "\n"
      ],
      "metadata": {
        "id": "xIRB5VAyUf3H"
      }
    },
    {
      "cell_type": "code",
      "source": [
        "!pip install torch\n",
        "!pip install pandas\n",
        "!pip install tqdm"
      ],
      "outputs": [
        {
          "output_type": "stream",
          "name": "stdout",
          "text": [
            "Requirement already satisfied: torch in /usr/local/lib/python3.10/dist-packages (2.1.0+cu121)\n",
            "Requirement already satisfied: filelock in /usr/local/lib/python3.10/dist-packages (from torch) (3.13.1)\n",
            "Requirement already satisfied: typing-extensions in /usr/local/lib/python3.10/dist-packages (from torch) (4.5.0)\n",
            "Requirement already satisfied: sympy in /usr/local/lib/python3.10/dist-packages (from torch) (1.12)\n",
            "Requirement already satisfied: networkx in /usr/local/lib/python3.10/dist-packages (from torch) (3.2.1)\n",
            "Requirement already satisfied: jinja2 in /usr/local/lib/python3.10/dist-packages (from torch) (3.1.2)\n",
            "Requirement already satisfied: fsspec in /usr/local/lib/python3.10/dist-packages (from torch) (2023.6.0)\n",
            "Requirement already satisfied: triton==2.1.0 in /usr/local/lib/python3.10/dist-packages (from torch) (2.1.0)\n",
            "Requirement already satisfied: MarkupSafe>=2.0 in /usr/local/lib/python3.10/dist-packages (from jinja2->torch) (2.1.3)\n",
            "Requirement already satisfied: mpmath>=0.19 in /usr/local/lib/python3.10/dist-packages (from sympy->torch) (1.3.0)\n",
            "Requirement already satisfied: pandas in /usr/local/lib/python3.10/dist-packages (1.5.3)\n",
            "Requirement already satisfied: python-dateutil>=2.8.1 in /usr/local/lib/python3.10/dist-packages (from pandas) (2.8.2)\n",
            "Requirement already satisfied: pytz>=2020.1 in /usr/local/lib/python3.10/dist-packages (from pandas) (2023.3.post1)\n",
            "Requirement already satisfied: numpy>=1.21.0 in /usr/local/lib/python3.10/dist-packages (from pandas) (1.23.5)\n",
            "Requirement already satisfied: six>=1.5 in /usr/local/lib/python3.10/dist-packages (from python-dateutil>=2.8.1->pandas) (1.16.0)\n",
            "Requirement already satisfied: tqdm in /usr/local/lib/python3.10/dist-packages (4.66.1)\n"
          ]
        }
      ],
      "execution_count": 1,
      "metadata": {
        "colab": {
          "base_uri": "https://localhost:8080/"
        },
        "id": "yfObGzXGUD_F",
        "outputId": "eaa91a25-3047-497c-e5bf-83afe06644e6"
      }
    },
    {
      "cell_type": "markdown",
      "source": [
        "#Importing libraries!!\n",
        "\n",
        "---\n",
        "\n"
      ],
      "metadata": {
        "id": "WsnP2owaUoY2"
      }
    },
    {
      "cell_type": "code",
      "source": [
        "# Importing general libraries!\n",
        "import numpy as np\n",
        "import pandas as pd\n",
        "import time\n",
        "from tqdm import tqdm\n",
        "import matplotlib.pyplot as plt\n",
        "from sklearn.model_selection import train_test_split\n",
        "\n",
        "# Importing torch and its functionalities for text processing\n",
        "import torch\n",
        "import torch.nn as nn\n",
        "import torch.nn.functional as F\n",
        "from torch.utils.data import Dataset, DataLoader\n",
        "from torchtext.data.utils import get_tokenizer\n",
        "from torchtext.vocab import build_vocab_from_iterator\n",
        "from torch.nn.utils.rnn import pad_sequence"
      ],
      "outputs": [],
      "execution_count": 2,
      "metadata": {
        "id": "VA-oSC59UsYC"
      }
    },
    {
      "cell_type": "markdown",
      "source": [
        "#Training the network on GPU for faster processing\n",
        "\n",
        "---\n",
        "\n"
      ],
      "metadata": {
        "id": "yKziCgJwUyOi"
      }
    },
    {
      "cell_type": "code",
      "source": [
        "device = torch.device(\"cuda\" if torch.cuda.is_available() else \"cpu\")"
      ],
      "outputs": [],
      "execution_count": 3,
      "metadata": {
        "id": "7U02T65wU2hu"
      }
    },
    {
      "cell_type": "markdown",
      "source": [
        "#Importing dataset\n",
        "\n",
        "---\n",
        "\n"
      ],
      "metadata": {
        "id": "lnPhwDaHU4ZP"
      }
    },
    {
      "cell_type": "code",
      "source": [
        "from google.colab import drive\n",
        "drive.mount('/content/drive')\n",
        "\n",
        "# Only 10000 rows of the dataset are incorporated in the training of the neural network to make it less computationally expensive.\n",
        "data = pd.read_csv(\"/content/drive/MyDrive/Reviews.csv\", header=0).head(10000)\n",
        "\n",
        "# Displaying bits of data to get a sense of it.\n",
        "display(data.head(5))\n",
        "x_data = np.array(data.loc[:, \"Text\"])\n",
        "y_data = np.array(data.loc[:, \"Score\"])\n",
        "y_data = y_data - 1 # Subtracting 1 because labels are arranged from 1-5."
      ],
      "outputs": [
        {
          "output_type": "stream",
          "name": "stdout",
          "text": [
            "Mounted at /content/drive\n"
          ]
        },
        {
          "output_type": "display_data",
          "data": {
            "text/plain": [
              "   Id   ProductId          UserId                      ProfileName  \\\n",
              "0   1  B001E4KFG0  A3SGXH7AUHU8GW                       delmartian   \n",
              "1   2  B00813GRG4  A1D87F6ZCVE5NK                           dll pa   \n",
              "2   3  B000LQOCH0   ABXLMWJIXXAIN  Natalia Corres \"Natalia Corres\"   \n",
              "3   4  B000UA0QIQ  A395BORC6FGVXV                             Karl   \n",
              "4   5  B006K2ZZ7K  A1UQRSCLF8GW1T    Michael D. Bigham \"M. Wassir\"   \n",
              "\n",
              "   HelpfulnessNumerator  HelpfulnessDenominator  Score        Time  \\\n",
              "0                     1                       1      5  1303862400   \n",
              "1                     0                       0      1  1346976000   \n",
              "2                     1                       1      4  1219017600   \n",
              "3                     3                       3      2  1307923200   \n",
              "4                     0                       0      5  1350777600   \n",
              "\n",
              "                 Summary                                               Text  \n",
              "0  Good Quality Dog Food  I have bought several of the Vitality canned d...  \n",
              "1      Not as Advertised  Product arrived labeled as Jumbo Salted Peanut...  \n",
              "2  \"Delight\" says it all  This is a confection that has been around a fe...  \n",
              "3         Cough Medicine  If you are looking for the secret ingredient i...  \n",
              "4            Great taffy  Great taffy at a great price.  There was a wid...  "
            ],
            "text/html": [
              "\n",
              "  <div id=\"df-1339e9b4-01ce-4107-8f1a-ac2c09b6e6fe\" class=\"colab-df-container\">\n",
              "    <div>\n",
              "<style scoped>\n",
              "    .dataframe tbody tr th:only-of-type {\n",
              "        vertical-align: middle;\n",
              "    }\n",
              "\n",
              "    .dataframe tbody tr th {\n",
              "        vertical-align: top;\n",
              "    }\n",
              "\n",
              "    .dataframe thead th {\n",
              "        text-align: right;\n",
              "    }\n",
              "</style>\n",
              "<table border=\"1\" class=\"dataframe\">\n",
              "  <thead>\n",
              "    <tr style=\"text-align: right;\">\n",
              "      <th></th>\n",
              "      <th>Id</th>\n",
              "      <th>ProductId</th>\n",
              "      <th>UserId</th>\n",
              "      <th>ProfileName</th>\n",
              "      <th>HelpfulnessNumerator</th>\n",
              "      <th>HelpfulnessDenominator</th>\n",
              "      <th>Score</th>\n",
              "      <th>Time</th>\n",
              "      <th>Summary</th>\n",
              "      <th>Text</th>\n",
              "    </tr>\n",
              "  </thead>\n",
              "  <tbody>\n",
              "    <tr>\n",
              "      <th>0</th>\n",
              "      <td>1</td>\n",
              "      <td>B001E4KFG0</td>\n",
              "      <td>A3SGXH7AUHU8GW</td>\n",
              "      <td>delmartian</td>\n",
              "      <td>1</td>\n",
              "      <td>1</td>\n",
              "      <td>5</td>\n",
              "      <td>1303862400</td>\n",
              "      <td>Good Quality Dog Food</td>\n",
              "      <td>I have bought several of the Vitality canned d...</td>\n",
              "    </tr>\n",
              "    <tr>\n",
              "      <th>1</th>\n",
              "      <td>2</td>\n",
              "      <td>B00813GRG4</td>\n",
              "      <td>A1D87F6ZCVE5NK</td>\n",
              "      <td>dll pa</td>\n",
              "      <td>0</td>\n",
              "      <td>0</td>\n",
              "      <td>1</td>\n",
              "      <td>1346976000</td>\n",
              "      <td>Not as Advertised</td>\n",
              "      <td>Product arrived labeled as Jumbo Salted Peanut...</td>\n",
              "    </tr>\n",
              "    <tr>\n",
              "      <th>2</th>\n",
              "      <td>3</td>\n",
              "      <td>B000LQOCH0</td>\n",
              "      <td>ABXLMWJIXXAIN</td>\n",
              "      <td>Natalia Corres \"Natalia Corres\"</td>\n",
              "      <td>1</td>\n",
              "      <td>1</td>\n",
              "      <td>4</td>\n",
              "      <td>1219017600</td>\n",
              "      <td>\"Delight\" says it all</td>\n",
              "      <td>This is a confection that has been around a fe...</td>\n",
              "    </tr>\n",
              "    <tr>\n",
              "      <th>3</th>\n",
              "      <td>4</td>\n",
              "      <td>B000UA0QIQ</td>\n",
              "      <td>A395BORC6FGVXV</td>\n",
              "      <td>Karl</td>\n",
              "      <td>3</td>\n",
              "      <td>3</td>\n",
              "      <td>2</td>\n",
              "      <td>1307923200</td>\n",
              "      <td>Cough Medicine</td>\n",
              "      <td>If you are looking for the secret ingredient i...</td>\n",
              "    </tr>\n",
              "    <tr>\n",
              "      <th>4</th>\n",
              "      <td>5</td>\n",
              "      <td>B006K2ZZ7K</td>\n",
              "      <td>A1UQRSCLF8GW1T</td>\n",
              "      <td>Michael D. Bigham \"M. Wassir\"</td>\n",
              "      <td>0</td>\n",
              "      <td>0</td>\n",
              "      <td>5</td>\n",
              "      <td>1350777600</td>\n",
              "      <td>Great taffy</td>\n",
              "      <td>Great taffy at a great price.  There was a wid...</td>\n",
              "    </tr>\n",
              "  </tbody>\n",
              "</table>\n",
              "</div>\n",
              "    <div class=\"colab-df-buttons\">\n",
              "\n",
              "  <div class=\"colab-df-container\">\n",
              "    <button class=\"colab-df-convert\" onclick=\"convertToInteractive('df-1339e9b4-01ce-4107-8f1a-ac2c09b6e6fe')\"\n",
              "            title=\"Convert this dataframe to an interactive table.\"\n",
              "            style=\"display:none;\">\n",
              "\n",
              "  <svg xmlns=\"http://www.w3.org/2000/svg\" height=\"24px\" viewBox=\"0 -960 960 960\">\n",
              "    <path d=\"M120-120v-720h720v720H120Zm60-500h600v-160H180v160Zm220 220h160v-160H400v160Zm0 220h160v-160H400v160ZM180-400h160v-160H180v160Zm440 0h160v-160H620v160ZM180-180h160v-160H180v160Zm440 0h160v-160H620v160Z\"/>\n",
              "  </svg>\n",
              "    </button>\n",
              "\n",
              "  <style>\n",
              "    .colab-df-container {\n",
              "      display:flex;\n",
              "      gap: 12px;\n",
              "    }\n",
              "\n",
              "    .colab-df-convert {\n",
              "      background-color: #E8F0FE;\n",
              "      border: none;\n",
              "      border-radius: 50%;\n",
              "      cursor: pointer;\n",
              "      display: none;\n",
              "      fill: #1967D2;\n",
              "      height: 32px;\n",
              "      padding: 0 0 0 0;\n",
              "      width: 32px;\n",
              "    }\n",
              "\n",
              "    .colab-df-convert:hover {\n",
              "      background-color: #E2EBFA;\n",
              "      box-shadow: 0px 1px 2px rgba(60, 64, 67, 0.3), 0px 1px 3px 1px rgba(60, 64, 67, 0.15);\n",
              "      fill: #174EA6;\n",
              "    }\n",
              "\n",
              "    .colab-df-buttons div {\n",
              "      margin-bottom: 4px;\n",
              "    }\n",
              "\n",
              "    [theme=dark] .colab-df-convert {\n",
              "      background-color: #3B4455;\n",
              "      fill: #D2E3FC;\n",
              "    }\n",
              "\n",
              "    [theme=dark] .colab-df-convert:hover {\n",
              "      background-color: #434B5C;\n",
              "      box-shadow: 0px 1px 3px 1px rgba(0, 0, 0, 0.15);\n",
              "      filter: drop-shadow(0px 1px 2px rgba(0, 0, 0, 0.3));\n",
              "      fill: #FFFFFF;\n",
              "    }\n",
              "  </style>\n",
              "\n",
              "    <script>\n",
              "      const buttonEl =\n",
              "        document.querySelector('#df-1339e9b4-01ce-4107-8f1a-ac2c09b6e6fe button.colab-df-convert');\n",
              "      buttonEl.style.display =\n",
              "        google.colab.kernel.accessAllowed ? 'block' : 'none';\n",
              "\n",
              "      async function convertToInteractive(key) {\n",
              "        const element = document.querySelector('#df-1339e9b4-01ce-4107-8f1a-ac2c09b6e6fe');\n",
              "        const dataTable =\n",
              "          await google.colab.kernel.invokeFunction('convertToInteractive',\n",
              "                                                    [key], {});\n",
              "        if (!dataTable) return;\n",
              "\n",
              "        const docLinkHtml = 'Like what you see? Visit the ' +\n",
              "          '<a target=\"_blank\" href=https://colab.research.google.com/notebooks/data_table.ipynb>data table notebook</a>'\n",
              "          + ' to learn more about interactive tables.';\n",
              "        element.innerHTML = '';\n",
              "        dataTable['output_type'] = 'display_data';\n",
              "        await google.colab.output.renderOutput(dataTable, element);\n",
              "        const docLink = document.createElement('div');\n",
              "        docLink.innerHTML = docLinkHtml;\n",
              "        element.appendChild(docLink);\n",
              "      }\n",
              "    </script>\n",
              "  </div>\n",
              "\n",
              "\n",
              "<div id=\"df-9b15594d-05aa-4f04-9a4f-c9908cbe2f2a\">\n",
              "  <button class=\"colab-df-quickchart\" onclick=\"quickchart('df-9b15594d-05aa-4f04-9a4f-c9908cbe2f2a')\"\n",
              "            title=\"Suggest charts\"\n",
              "            style=\"display:none;\">\n",
              "\n",
              "<svg xmlns=\"http://www.w3.org/2000/svg\" height=\"24px\"viewBox=\"0 0 24 24\"\n",
              "     width=\"24px\">\n",
              "    <g>\n",
              "        <path d=\"M19 3H5c-1.1 0-2 .9-2 2v14c0 1.1.9 2 2 2h14c1.1 0 2-.9 2-2V5c0-1.1-.9-2-2-2zM9 17H7v-7h2v7zm4 0h-2V7h2v10zm4 0h-2v-4h2v4z\"/>\n",
              "    </g>\n",
              "</svg>\n",
              "  </button>\n",
              "\n",
              "<style>\n",
              "  .colab-df-quickchart {\n",
              "      --bg-color: #E8F0FE;\n",
              "      --fill-color: #1967D2;\n",
              "      --hover-bg-color: #E2EBFA;\n",
              "      --hover-fill-color: #174EA6;\n",
              "      --disabled-fill-color: #AAA;\n",
              "      --disabled-bg-color: #DDD;\n",
              "  }\n",
              "\n",
              "  [theme=dark] .colab-df-quickchart {\n",
              "      --bg-color: #3B4455;\n",
              "      --fill-color: #D2E3FC;\n",
              "      --hover-bg-color: #434B5C;\n",
              "      --hover-fill-color: #FFFFFF;\n",
              "      --disabled-bg-color: #3B4455;\n",
              "      --disabled-fill-color: #666;\n",
              "  }\n",
              "\n",
              "  .colab-df-quickchart {\n",
              "    background-color: var(--bg-color);\n",
              "    border: none;\n",
              "    border-radius: 50%;\n",
              "    cursor: pointer;\n",
              "    display: none;\n",
              "    fill: var(--fill-color);\n",
              "    height: 32px;\n",
              "    padding: 0;\n",
              "    width: 32px;\n",
              "  }\n",
              "\n",
              "  .colab-df-quickchart:hover {\n",
              "    background-color: var(--hover-bg-color);\n",
              "    box-shadow: 0 1px 2px rgba(60, 64, 67, 0.3), 0 1px 3px 1px rgba(60, 64, 67, 0.15);\n",
              "    fill: var(--button-hover-fill-color);\n",
              "  }\n",
              "\n",
              "  .colab-df-quickchart-complete:disabled,\n",
              "  .colab-df-quickchart-complete:disabled:hover {\n",
              "    background-color: var(--disabled-bg-color);\n",
              "    fill: var(--disabled-fill-color);\n",
              "    box-shadow: none;\n",
              "  }\n",
              "\n",
              "  .colab-df-spinner {\n",
              "    border: 2px solid var(--fill-color);\n",
              "    border-color: transparent;\n",
              "    border-bottom-color: var(--fill-color);\n",
              "    animation:\n",
              "      spin 1s steps(1) infinite;\n",
              "  }\n",
              "\n",
              "  @keyframes spin {\n",
              "    0% {\n",
              "      border-color: transparent;\n",
              "      border-bottom-color: var(--fill-color);\n",
              "      border-left-color: var(--fill-color);\n",
              "    }\n",
              "    20% {\n",
              "      border-color: transparent;\n",
              "      border-left-color: var(--fill-color);\n",
              "      border-top-color: var(--fill-color);\n",
              "    }\n",
              "    30% {\n",
              "      border-color: transparent;\n",
              "      border-left-color: var(--fill-color);\n",
              "      border-top-color: var(--fill-color);\n",
              "      border-right-color: var(--fill-color);\n",
              "    }\n",
              "    40% {\n",
              "      border-color: transparent;\n",
              "      border-right-color: var(--fill-color);\n",
              "      border-top-color: var(--fill-color);\n",
              "    }\n",
              "    60% {\n",
              "      border-color: transparent;\n",
              "      border-right-color: var(--fill-color);\n",
              "    }\n",
              "    80% {\n",
              "      border-color: transparent;\n",
              "      border-right-color: var(--fill-color);\n",
              "      border-bottom-color: var(--fill-color);\n",
              "    }\n",
              "    90% {\n",
              "      border-color: transparent;\n",
              "      border-bottom-color: var(--fill-color);\n",
              "    }\n",
              "  }\n",
              "</style>\n",
              "\n",
              "  <script>\n",
              "    async function quickchart(key) {\n",
              "      const quickchartButtonEl =\n",
              "        document.querySelector('#' + key + ' button');\n",
              "      quickchartButtonEl.disabled = true;  // To prevent multiple clicks.\n",
              "      quickchartButtonEl.classList.add('colab-df-spinner');\n",
              "      try {\n",
              "        const charts = await google.colab.kernel.invokeFunction(\n",
              "            'suggestCharts', [key], {});\n",
              "      } catch (error) {\n",
              "        console.error('Error during call to suggestCharts:', error);\n",
              "      }\n",
              "      quickchartButtonEl.classList.remove('colab-df-spinner');\n",
              "      quickchartButtonEl.classList.add('colab-df-quickchart-complete');\n",
              "    }\n",
              "    (() => {\n",
              "      let quickchartButtonEl =\n",
              "        document.querySelector('#df-9b15594d-05aa-4f04-9a4f-c9908cbe2f2a button');\n",
              "      quickchartButtonEl.style.display =\n",
              "        google.colab.kernel.accessAllowed ? 'block' : 'none';\n",
              "    })();\n",
              "  </script>\n",
              "</div>\n",
              "\n",
              "    </div>\n",
              "  </div>\n"
            ]
          },
          "metadata": {}
        }
      ],
      "execution_count": 4,
      "metadata": {
        "colab": {
          "base_uri": "https://localhost:8080/",
          "height": 224
        },
        "id": "JKVK-DgGU67g",
        "outputId": "0999c795-3330-486f-a16f-d4224df82bbe"
      }
    },
    {
      "cell_type": "markdown",
      "source": [
        "#Checking the distribution of the data with respect to the labels.\n",
        "\n",
        "---\n",
        "\n"
      ],
      "metadata": {
        "id": "uX-tA_4GU9Ly"
      }
    },
    {
      "cell_type": "code",
      "source": [
        "data['Score'].value_counts().plot(kind='barh')\n",
        "plt.title(\"Distribution of the dataset\")\n",
        "plt.xlabel(\"Number of samples\")\n",
        "plt.ylabel(\"Labels\")\n",
        "plt.grid()\n",
        "plt.show()"
      ],
      "outputs": [
        {
          "output_type": "display_data",
          "data": {
            "text/plain": [
              "<Figure size 640x480 with 1 Axes>"
            ],
            "image/png": "[encoded data removed]"
          },
          "metadata": {}
        }
      ],
      "execution_count": 5,
      "metadata": {
        "id": "wwVUlhbQU_UG",
        "colab": {
          "base_uri": "https://localhost:8080/",
          "height": 472
        },
        "outputId": "62b7a822-20c0-4f28-9ebc-5aefa7a9da96"
      }
    },
    {
      "cell_type": "markdown",
      "source": [
        "The data seems to heavily biased towards 5 star reviews. This might create a problem in training the network because the network will try to overfit to the 5 star rating."
      ],
      "metadata": {
        "id": "SlggaLuivBbg"
      }
    },
    {
      "cell_type": "markdown",
      "source": [
        "#Check Word Count Distribution of Text Data"
      ],
      "metadata": {
        "id": "fPK5zEkVz2N9"
      }
    },
    {
      "cell_type": "code",
      "source": [
        "text_reviews = data['Text']\n",
        "\n",
        "# Tokenize the text reviews using PyTorch's get_tokenizer\n",
        "tokenizer = get_tokenizer('basic_english')\n",
        "tokenized_reviews = [tokenizer(review.lower()) for review in text_reviews]\n",
        "\n",
        "# Calculate the word count for each review\n",
        "word_counts = [len(tokens) for tokens in tokenized_reviews]\n",
        "\n",
        "# Define custom bin edges for the histogram\n",
        "custom_bin_edges = range(0, max(word_counts) + 1, 10)\n",
        "\n",
        "# Create a histogram to visualize the word count distribution\n",
        "plt.hist(word_counts, bins=custom_bin_edges, edgecolor='k')\n",
        "plt.title('Word Count Distribution in Amazon Reviews')\n",
        "plt.xlabel('Word Count')\n",
        "plt.ylabel('Frequency')\n",
        "plt.grid()\n",
        "plt.show()"
      ],
      "metadata": {
        "colab": {
          "base_uri": "https://localhost:8080/",
          "height": 472
        },
        "id": "tjUXBNWSz_A0",
        "outputId": "4c29c9d7-5b68-49f6-d556-7fa80b5260ec"
      },
      "execution_count": 6,
      "outputs": [
        {
          "output_type": "display_data",
          "data": {
            "text/plain": [
              "<Figure size 640x480 with 1 Axes>"
            ],
            "image/png": "[encoded data removed]"
          },
          "metadata": {}
        }
      ]
    },
    {
      "cell_type": "markdown",
      "source": [
        "Based on the histogram of Word Count Distribution in Amazon Reviews, it is evident that people tend not to comment much (elaborate much) on their ratings, and therefore, it becomes more difficult for us to determine the star rating of a review based on textual reviews left by customers."
      ],
      "metadata": {
        "id": "u3T9H5IH-Yt8"
      }
    },
    {
      "cell_type": "markdown",
      "source": [
        "# Preprocessing the data by tokenizing and creating batches.\n",
        "\n",
        "---\n",
        "\n"
      ],
      "metadata": {
        "id": "MAaYEJxxVBZl"
      }
    },
    {
      "cell_type": "code",
      "source": [
        "# A tokenizer allows you to parse sentences and split into words.\n",
        "tokenizer = get_tokenizer(\"basic_english\")\n",
        "\n",
        "# Creating funciton to parse the text and tokenize it.\n",
        "def yield_tokens(data_iter):\n",
        "    for text in data_iter:\n",
        "        yield tokenizer(text)\n",
        "\n",
        "\n",
        "# Building a vocabulary object which contains all the text comments and can be parsed using an iterator.\n",
        "# Also padding the unknwon tokens with the special <unk>. This is a special token used for words out of\n",
        "# tokenizer's dictionary.\n",
        "vocab = build_vocab_from_iterator(yield_tokens(x_data), specials=[\"<unk>\"])\n",
        "vocab.set_default_index(vocab[\"<unk>\"])\n",
        "\n",
        "\n",
        "# Custom Dataset\n",
        "class ReviewDataset(Dataset):\n",
        "\n",
        "  # Converting the texts to token and then to tensors so it can be passed through the neural network.\n",
        "    def __init__(self, texts, labels, vocab):\n",
        "        self.texts = [\n",
        "            torch.tensor(vocab(tokenizer(text)), dtype=torch.long) for text in texts\n",
        "        ]\n",
        "        self.labels = labels\n",
        "\n",
        "    # Getting the length of the dataset.\n",
        "    def __len__(self):\n",
        "        return len(self.texts)\n",
        "\n",
        "    # Getting the specific text and its corresponding label.\n",
        "    def __getitem__(self, idx):\n",
        "        return self.texts[idx], self.labels[idx]\n",
        "\n",
        "\n",
        "# Collate Function takes care of the size consistency. It makes sure every text tensor is of the same size.\n",
        "# This is done by basically adding <pad>\n",
        "def collate_fn(batch):\n",
        "    texts, labels = zip(*batch)\n",
        "    texts_padded = pad_sequence(texts, padding_value=vocab[\"<pad>\"])\n",
        "    labels = torch.tensor(labels, dtype=torch.long)\n",
        "    return texts_padded, labels"
      ],
      "outputs": [],
      "execution_count": 7,
      "metadata": {
        "id": "6r6jYQFRVDP6"
      }
    },
    {
      "cell_type": "markdown",
      "source": [
        "#Splitting data into train and test\n",
        "\n",
        "---\n",
        "\n"
      ],
      "metadata": {
        "id": "ceoMRzbUVKtV"
      }
    },
    {
      "cell_type": "code",
      "source": [
        "# Using the usual test and train splitter from sklearn\n",
        "x_train, x_test, y_train, y_test = train_test_split(\n",
        "    x_data, y_data, test_size=0.2, shuffle=True\n",
        ")\n",
        "\n",
        "# Creating corresponding datasets and dataloaders.\n",
        "# These can be treated as collection of data stored in a convenient format for Pytorch to pass around the neural network.\n",
        "\n",
        "train_data = ReviewDataset(x_train, y_train, vocab) # Converting the texts to tokens and then to tensors.\n",
        "train_loader = DataLoader(train_data, batch_size=32, shuffle=True, collate_fn = collate_fn) # Ensuring size consistency and preparing batches.\n",
        "test_data = ReviewDataset(x_test, y_test, vocab)\n",
        "test_loader = DataLoader(test_data, batch_size=32, shuffle=True, collate_fn = collate_fn)"
      ],
      "outputs": [],
      "execution_count": 8,
      "metadata": {
        "id": "YPLP7cUOVNtz"
      }
    },
    {
      "cell_type": "markdown",
      "source": [
        "# Initializing basic parameters for the neural network\n",
        "\n",
        "---\n",
        "\n"
      ],
      "metadata": {
        "id": "6mmJKEFUVP8O"
      }
    },
    {
      "cell_type": "code",
      "source": [
        "num_classes = 5 # The output labels.\n",
        "hidden_size = 100 # The output size of the first hidden layer\n",
        "hidden_size2 = 50 # The output size of the second hidden layer IF USED !!\n",
        "vocab_size = len(vocab) # The input size of the embedding layer which is basically the length of the vocab object."
      ],
      "outputs": [],
      "execution_count": 9,
      "metadata": {
        "id": "66gpaJrSVUBi"
      }
    },
    {
      "cell_type": "markdown",
      "source": [
        "#Creating neural network class\n",
        "\n",
        "---\n",
        "\n"
      ],
      "metadata": {
        "id": "gAitT6ruVWOU"
      }
    },
    {
      "cell_type": "code",
      "source": [
        "class neural(nn.Module):\n",
        "    def __init__(self, num_class):\n",
        "\n",
        "      # The super() function ensures proper initialization of the inherited properties and methods from the parent class.\n",
        "        super(neural, self).__init__()\n",
        "\n",
        "        # Define the embedding layer\n",
        "        self.embedding = nn.Embedding(vocab_size, hidden_size)\n",
        "\n",
        "        # Setting the gradient to be true because the weights need to be optimized.\n",
        "        self.embedding.weight.requires_grad = True\n",
        "\n",
        "        # A fully-connected linear layer for classification\n",
        "        self.fc = nn.Linear(hidden_size, num_classes)\n",
        "\n",
        "        # Initializing demo weights\n",
        "        self.init_weights()\n",
        "\n",
        "    def init_weights(self):\n",
        "\n",
        "        # initialize weights for neural layers\n",
        "        initrange = 0.05 # chosen randomly.\n",
        "        self.fc.weight.data.uniform_(-initrange, initrange)\n",
        "        self.fc.bias.data.zero_() # Setting the initial bias to 0.\n",
        "\n",
        "    def forward(self, x):\n",
        "        # forward input x into embedding layer\n",
        "        x = self.embedding(x)\n",
        "\n",
        "        # average the output of embedding layer and forward it to linear fc layer\n",
        "        x = torch.mean(x, 1)\n",
        "\n",
        "        # Passing through the 1st linear layer.\n",
        "        x = self.fc(x)\n",
        "        return x"
      ],
      "outputs": [],
      "execution_count": 10,
      "metadata": {
        "id": "bekuBJGSVYyv"
      }
    },
    {
      "cell_type": "markdown",
      "source": [
        "#Initiate the model, optimizer, and loss function\n",
        "\n",
        "---\n",
        "\n"
      ],
      "metadata": {
        "id": "Sj_B9joiVbIs"
      }
    },
    {
      "cell_type": "code",
      "source": [
        "model = neural(num_classes).to(device) # Creating an object of the neural network model\n",
        "loss_function = nn.CrossEntropyLoss().to(device) # Initializing a loss function which will allow for optimization.\n",
        "optimizer = torch.optim.SGD(model.parameters(), lr = .5) # Stochastic gradient descent optimizer used to optimize the weights and biases.\n",
        "\n",
        "# lr is called the learning rate. This is a hyper-parameter of the neural network and can be tuned to determine the best accuracy."
      ],
      "outputs": [],
      "execution_count": 11,
      "metadata": {
        "id": "zqqYLmoUVeVv"
      }
    },
    {
      "cell_type": "markdown",
      "source": [
        "#Defining a training and validation funciton\n",
        "\n",
        "---\n",
        "\n"
      ],
      "metadata": {
        "id": "4NOeAOZoVfwp"
      }
    },
    {
      "cell_type": "code",
      "source": [
        "# The train function runs through the train dataset and optimizes the weights.\n",
        "\n",
        "def train_func(model, train_loader, optimizer, loss_function):\n",
        "\n",
        "    # Initializing variables.\n",
        "    train_loss = 0\n",
        "    train_acc = 0\n",
        "    num_examples = 0\n",
        "    model.train()\n",
        "\n",
        "    # for each batch in train data loader\n",
        "    for idx, batch in enumerate(train_loader):\n",
        "\n",
        "      #Parse the batch and extract the tensor for text and corresponding label.\n",
        "        input_text, labels = batch[0], batch[1]\n",
        "\n",
        "        # Taking transpose of the tensor to solve a size mismatch problem which arose while training the model.\n",
        "        input_text = input_text.t()\n",
        "\n",
        "        # clear optimizer gradient\n",
        "        optimizer.zero_grad()\n",
        "\n",
        "        # forward input_text through model\n",
        "        output = model(input_text)\n",
        "\n",
        "        # compute loss\n",
        "        # backpropagate loss\n",
        "        loss = loss_function(output, labels)\n",
        "        loss.backward()\n",
        "\n",
        "        optimizer.step()\n",
        "\n",
        "        # Compute total loss and accuracy\n",
        "        train_loss += loss.item()\n",
        "        train_acc += (output.argmax(1) == labels).sum().item()\n",
        "        num_examples += labels.size(0)\n",
        "\n",
        "    return train_loss / num_examples, train_acc / num_examples\n",
        "\n",
        "\n",
        "# Funciton to evaluate loss\n",
        "def eval_func(data_loader, test_mode = False):\n",
        "\n",
        "  # Again initializing variables\n",
        "    eval_loss = 0\n",
        "    eval_acc = 0\n",
        "    num_examples = 0\n",
        "    predictions = []\n",
        "    model.eval()\n",
        "    for batch in data_loader:\n",
        "        input_text, labels = batch[0], batch[1]\n",
        "\n",
        "        # Again transpose is taken for the text tensor to solve the size mismatch problems that arose while writing the code.\n",
        "        input_text = input_text.t()\n",
        "\n",
        "        # As we are not doing training, we don't need to keep track of gradients\n",
        "        with torch.no_grad():\n",
        "            output = model(input_text)\n",
        "\n",
        "            # Similar to train function, calculating the loss and accuracy.\n",
        "            if not test_mode:\n",
        "                loss = loss_function(output, labels)\n",
        "                eval_loss += loss.item()\n",
        "                eval_acc += (output.argmax(1) == labels).sum().item()\n",
        "                num_examples += labels.size(0)\n",
        "            else:\n",
        "                predictions.extend(output.argmax(1).tolist())\n",
        "\n",
        "    # For testing the model in real time.\n",
        "    if test_mode:\n",
        "        return predictions\n",
        "    return eval_loss / num_examples, eval_acc / num_examples"
      ],
      "outputs": [],
      "execution_count": 12,
      "metadata": {
        "id": "SsZM_08UVjmx"
      }
    },
    {
      "cell_type": "markdown",
      "source": [
        "#Training and testing the model!\n",
        "\n",
        "---\n",
        "\n"
      ],
      "metadata": {
        "id": "-o7FxcnFVmey"
      }
    },
    {
      "cell_type": "code",
      "source": [
        "best_val_acc = 0\n",
        "# Define the number of epochs which is a hyper parameter and is tuned by inspection.\n",
        "num_epochs = 50\n",
        "\n",
        "# Create a tqdm wrapper for the range of epochs\n",
        "start_time = time.time()\n",
        "for epoch in tqdm(range(num_epochs), desc=\"Training Progress\", unit=\"epoch\"):\n",
        "\n",
        "\n",
        "    # train model on train_loader\n",
        "    train_loss, train_acc = train_func(model, train_loader, optimizer, loss_function)\n",
        "\n",
        "    # Evaluate the performance on validation dataset\n",
        "    valid_loss, valid_acc = eval_func(test_loader)\n",
        "\n",
        "    # If current validation_acc is better than best_val_acc,\n",
        "    # update best_val_acc and save model\n",
        "    if valid_acc > best_val_acc:\n",
        "        best_val_acc = valid_acc\n",
        "        torch.save(model.state_dict(), \"./saved_model\")\n",
        "\n",
        "    # Calculate the time taken for the epoch\n",
        "    secs = int(time.time() - start_time)\n",
        "    mins = secs // 60\n",
        "    secs = secs % 60\n",
        "\n",
        "    # Print out the loss and accuracy for this epoch\n",
        "    print(\"Epoch: %d\" % (epoch + 1), \" | time in %d minutes, %d seconds\" % (mins, secs))\n",
        "    print(f\"\\tLoss: {train_loss:.4f}(train)\\t|\\tAcc: {train_acc * 100:.1f}%(train)\")\n",
        "    print(f\"\\tLoss: {valid_loss:.4f}(valid)\\t|\\tAcc: {valid_acc * 100:.1f}%(valid)\")\n",
        "\n",
        "# Load the best model after training\n",
        "model.load_state_dict(torch.load(\"./saved_model\"))"
      ],
      "outputs": [
        {
          "output_type": "stream",
          "name": "stderr",
          "text": [
            "Training Progress:   2%|▏         | 1/50 [00:02<01:46,  2.17s/epoch]"
          ]
        },
        {
          "output_type": "stream",
          "name": "stdout",
          "text": [
            "Epoch: 1  | time in 0 minutes, 2 seconds\n",
            "\tLoss: 0.0350(train)\t|\tAcc: 62.5%(train)\n",
            "\tLoss: 0.0351(valid)\t|\tAcc: 61.5%(valid)\n"
          ]
        },
        {
          "output_type": "stream",
          "name": "stderr",
          "text": [
            "\rTraining Progress:   4%|▍         | 2/50 [00:04<01:37,  2.04s/epoch]"
          ]
        },
        {
          "output_type": "stream",
          "name": "stdout",
          "text": [
            "Epoch: 2  | time in 0 minutes, 4 seconds\n",
            "\tLoss: 0.0347(train)\t|\tAcc: 62.3%(train)\n",
            "\tLoss: 0.0351(valid)\t|\tAcc: 61.2%(valid)\n"
          ]
        },
        {
          "output_type": "stream",
          "name": "stderr",
          "text": [
            "\rTraining Progress:   6%|▌         | 3/50 [00:06<01:33,  1.99s/epoch]"
          ]
        },
        {
          "output_type": "stream",
          "name": "stdout",
          "text": [
            "Epoch: 3  | time in 0 minutes, 6 seconds\n",
            "\tLoss: 0.0349(train)\t|\tAcc: 62.4%(train)\n",
            "\tLoss: 0.0352(valid)\t|\tAcc: 61.1%(valid)\n"
          ]
        },
        {
          "output_type": "stream",
          "name": "stderr",
          "text": [
            "\rTraining Progress:   8%|▊         | 4/50 [00:07<01:30,  1.96s/epoch]"
          ]
        },
        {
          "output_type": "stream",
          "name": "stdout",
          "text": [
            "Epoch: 4  | time in 0 minutes, 7 seconds\n",
            "\tLoss: 0.0348(train)\t|\tAcc: 62.2%(train)\n",
            "\tLoss: 0.0382(valid)\t|\tAcc: 61.0%(valid)\n"
          ]
        },
        {
          "output_type": "stream",
          "name": "stderr",
          "text": [
            "\rTraining Progress:  10%|█         | 5/50 [00:09<01:27,  1.95s/epoch]"
          ]
        },
        {
          "output_type": "stream",
          "name": "stdout",
          "text": [
            "Epoch: 5  | time in 0 minutes, 9 seconds\n",
            "\tLoss: 0.0348(train)\t|\tAcc: 62.3%(train)\n",
            "\tLoss: 0.0354(valid)\t|\tAcc: 61.0%(valid)\n"
          ]
        },
        {
          "output_type": "stream",
          "name": "stderr",
          "text": [
            "\rTraining Progress:  12%|█▏        | 6/50 [00:12<01:28,  2.01s/epoch]"
          ]
        },
        {
          "output_type": "stream",
          "name": "stdout",
          "text": [
            "Epoch: 6  | time in 0 minutes, 12 seconds\n",
            "\tLoss: 0.0346(train)\t|\tAcc: 62.4%(train)\n",
            "\tLoss: 0.0357(valid)\t|\tAcc: 61.4%(valid)\n"
          ]
        },
        {
          "output_type": "stream",
          "name": "stderr",
          "text": [
            "\rTraining Progress:  14%|█▍        | 7/50 [00:14<01:32,  2.15s/epoch]"
          ]
        },
        {
          "output_type": "stream",
          "name": "stdout",
          "text": [
            "Epoch: 7  | time in 0 minutes, 14 seconds\n",
            "\tLoss: 0.0347(train)\t|\tAcc: 62.4%(train)\n",
            "\tLoss: 0.0348(valid)\t|\tAcc: 61.3%(valid)\n"
          ]
        },
        {
          "output_type": "stream",
          "name": "stderr",
          "text": [
            "\rTraining Progress:  16%|█▌        | 8/50 [00:16<01:33,  2.22s/epoch]"
          ]
        },
        {
          "output_type": "stream",
          "name": "stdout",
          "text": [
            "Epoch: 8  | time in 0 minutes, 16 seconds\n",
            "\tLoss: 0.0347(train)\t|\tAcc: 62.4%(train)\n",
            "\tLoss: 0.0355(valid)\t|\tAcc: 61.4%(valid)\n"
          ]
        },
        {
          "output_type": "stream",
          "name": "stderr",
          "text": [
            "\rTraining Progress:  18%|█▊        | 9/50 [00:18<01:27,  2.13s/epoch]"
          ]
        },
        {
          "output_type": "stream",
          "name": "stdout",
          "text": [
            "Epoch: 9  | time in 0 minutes, 18 seconds\n",
            "\tLoss: 0.0346(train)\t|\tAcc: 62.4%(train)\n",
            "\tLoss: 0.0360(valid)\t|\tAcc: 61.1%(valid)\n"
          ]
        },
        {
          "output_type": "stream",
          "name": "stderr",
          "text": [
            "\rTraining Progress:  20%|██        | 10/50 [00:20<01:22,  2.06s/epoch]"
          ]
        },
        {
          "output_type": "stream",
          "name": "stdout",
          "text": [
            "Epoch: 10  | time in 0 minutes, 20 seconds\n",
            "\tLoss: 0.0344(train)\t|\tAcc: 62.6%(train)\n",
            "\tLoss: 0.0384(valid)\t|\tAcc: 61.2%(valid)\n"
          ]
        },
        {
          "output_type": "stream",
          "name": "stderr",
          "text": [
            "\rTraining Progress:  22%|██▏       | 11/50 [00:22<01:19,  2.03s/epoch]"
          ]
        },
        {
          "output_type": "stream",
          "name": "stdout",
          "text": [
            "Epoch: 11  | time in 0 minutes, 22 seconds\n",
            "\tLoss: 0.0347(train)\t|\tAcc: 62.4%(train)\n",
            "\tLoss: 0.0344(valid)\t|\tAcc: 61.4%(valid)\n"
          ]
        },
        {
          "output_type": "stream",
          "name": "stderr",
          "text": [
            "\rTraining Progress:  24%|██▍       | 12/50 [00:24<01:16,  2.01s/epoch]"
          ]
        },
        {
          "output_type": "stream",
          "name": "stdout",
          "text": [
            "Epoch: 12  | time in 0 minutes, 24 seconds\n",
            "\tLoss: 0.0346(train)\t|\tAcc: 62.5%(train)\n",
            "\tLoss: 0.0349(valid)\t|\tAcc: 61.5%(valid)\n"
          ]
        },
        {
          "output_type": "stream",
          "name": "stderr",
          "text": [
            "\rTraining Progress:  26%|██▌       | 13/50 [00:26<01:15,  2.04s/epoch]"
          ]
        },
        {
          "output_type": "stream",
          "name": "stdout",
          "text": [
            "Epoch: 13  | time in 0 minutes, 26 seconds\n",
            "\tLoss: 0.0346(train)\t|\tAcc: 62.6%(train)\n",
            "\tLoss: 0.0348(valid)\t|\tAcc: 61.3%(valid)\n"
          ]
        },
        {
          "output_type": "stream",
          "name": "stderr",
          "text": [
            "\rTraining Progress:  28%|██▊       | 14/50 [00:29<01:17,  2.16s/epoch]"
          ]
        },
        {
          "output_type": "stream",
          "name": "stdout",
          "text": [
            "Epoch: 14  | time in 0 minutes, 29 seconds\n",
            "\tLoss: 0.0346(train)\t|\tAcc: 62.4%(train)\n",
            "\tLoss: 0.0345(valid)\t|\tAcc: 61.4%(valid)\n"
          ]
        },
        {
          "output_type": "stream",
          "name": "stderr",
          "text": [
            "\rTraining Progress:  30%|███       | 15/50 [00:31<01:19,  2.27s/epoch]"
          ]
        },
        {
          "output_type": "stream",
          "name": "stdout",
          "text": [
            "Epoch: 15  | time in 0 minutes, 31 seconds\n",
            "\tLoss: 0.0348(train)\t|\tAcc: 62.4%(train)\n",
            "\tLoss: 0.0347(valid)\t|\tAcc: 61.5%(valid)\n"
          ]
        },
        {
          "output_type": "stream",
          "name": "stderr",
          "text": [
            "\rTraining Progress:  32%|███▏      | 16/50 [00:33<01:13,  2.17s/epoch]"
          ]
        },
        {
          "output_type": "stream",
          "name": "stdout",
          "text": [
            "Epoch: 16  | time in 0 minutes, 33 seconds\n",
            "\tLoss: 0.0346(train)\t|\tAcc: 62.5%(train)\n",
            "\tLoss: 0.0346(valid)\t|\tAcc: 61.3%(valid)\n"
          ]
        },
        {
          "output_type": "stream",
          "name": "stderr",
          "text": [
            "\rTraining Progress:  34%|███▍      | 17/50 [00:35<01:08,  2.09s/epoch]"
          ]
        },
        {
          "output_type": "stream",
          "name": "stdout",
          "text": [
            "Epoch: 17  | time in 0 minutes, 35 seconds\n",
            "\tLoss: 0.0345(train)\t|\tAcc: 62.2%(train)\n",
            "\tLoss: 0.0344(valid)\t|\tAcc: 61.4%(valid)\n"
          ]
        },
        {
          "output_type": "stream",
          "name": "stderr",
          "text": [
            "\rTraining Progress:  36%|███▌      | 18/50 [00:37<01:04,  2.01s/epoch]"
          ]
        },
        {
          "output_type": "stream",
          "name": "stdout",
          "text": [
            "Epoch: 18  | time in 0 minutes, 37 seconds\n",
            "\tLoss: 0.0345(train)\t|\tAcc: 62.5%(train)\n",
            "\tLoss: 0.0362(valid)\t|\tAcc: 61.1%(valid)\n"
          ]
        },
        {
          "output_type": "stream",
          "name": "stderr",
          "text": [
            "\rTraining Progress:  38%|███▊      | 19/50 [00:39<01:01,  1.99s/epoch]"
          ]
        },
        {
          "output_type": "stream",
          "name": "stdout",
          "text": [
            "Epoch: 19  | time in 0 minutes, 39 seconds\n",
            "\tLoss: 0.0345(train)\t|\tAcc: 62.5%(train)\n",
            "\tLoss: 0.0348(valid)\t|\tAcc: 61.6%(valid)\n"
          ]
        },
        {
          "output_type": "stream",
          "name": "stderr",
          "text": [
            "\rTraining Progress:  40%|████      | 20/50 [00:41<00:59,  1.99s/epoch]"
          ]
        },
        {
          "output_type": "stream",
          "name": "stdout",
          "text": [
            "Epoch: 20  | time in 0 minutes, 41 seconds\n",
            "\tLoss: 0.0344(train)\t|\tAcc: 62.4%(train)\n",
            "\tLoss: 0.0359(valid)\t|\tAcc: 61.1%(valid)\n"
          ]
        },
        {
          "output_type": "stream",
          "name": "stderr",
          "text": [
            "\rTraining Progress:  42%|████▏     | 21/50 [00:43<01:01,  2.11s/epoch]"
          ]
        },
        {
          "output_type": "stream",
          "name": "stdout",
          "text": [
            "Epoch: 21  | time in 0 minutes, 43 seconds\n",
            "\tLoss: 0.0344(train)\t|\tAcc: 62.5%(train)\n",
            "\tLoss: 0.0351(valid)\t|\tAcc: 61.5%(valid)\n"
          ]
        },
        {
          "output_type": "stream",
          "name": "stderr",
          "text": [
            "\rTraining Progress:  44%|████▍     | 22/50 [00:46<01:01,  2.21s/epoch]"
          ]
        },
        {
          "output_type": "stream",
          "name": "stdout",
          "text": [
            "Epoch: 22  | time in 0 minutes, 46 seconds\n",
            "\tLoss: 0.0343(train)\t|\tAcc: 62.5%(train)\n",
            "\tLoss: 0.0348(valid)\t|\tAcc: 61.7%(valid)\n"
          ]
        },
        {
          "output_type": "stream",
          "name": "stderr",
          "text": [
            "\rTraining Progress:  46%|████▌     | 23/50 [00:48<00:59,  2.19s/epoch]"
          ]
        },
        {
          "output_type": "stream",
          "name": "stdout",
          "text": [
            "Epoch: 23  | time in 0 minutes, 48 seconds\n",
            "\tLoss: 0.0346(train)\t|\tAcc: 62.0%(train)\n",
            "\tLoss: 0.0348(valid)\t|\tAcc: 61.5%(valid)\n"
          ]
        },
        {
          "output_type": "stream",
          "name": "stderr",
          "text": [
            "\rTraining Progress:  48%|████▊     | 24/50 [00:50<00:55,  2.12s/epoch]"
          ]
        },
        {
          "output_type": "stream",
          "name": "stdout",
          "text": [
            "Epoch: 24  | time in 0 minutes, 50 seconds\n",
            "\tLoss: 0.0345(train)\t|\tAcc: 62.6%(train)\n",
            "\tLoss: 0.0353(valid)\t|\tAcc: 61.4%(valid)\n"
          ]
        },
        {
          "output_type": "stream",
          "name": "stderr",
          "text": [
            "\rTraining Progress:  50%|█████     | 25/50 [00:52<00:52,  2.09s/epoch]"
          ]
        },
        {
          "output_type": "stream",
          "name": "stdout",
          "text": [
            "Epoch: 25  | time in 0 minutes, 52 seconds\n",
            "\tLoss: 0.0342(train)\t|\tAcc: 62.6%(train)\n",
            "\tLoss: 0.0353(valid)\t|\tAcc: 61.1%(valid)\n"
          ]
        },
        {
          "output_type": "stream",
          "name": "stderr",
          "text": [
            "\rTraining Progress:  52%|█████▏    | 26/50 [00:54<00:49,  2.06s/epoch]"
          ]
        },
        {
          "output_type": "stream",
          "name": "stdout",
          "text": [
            "Epoch: 26  | time in 0 minutes, 54 seconds\n",
            "\tLoss: 0.0342(train)\t|\tAcc: 62.5%(train)\n",
            "\tLoss: 0.0381(valid)\t|\tAcc: 61.4%(valid)\n"
          ]
        },
        {
          "output_type": "stream",
          "name": "stderr",
          "text": [
            "\rTraining Progress:  54%|█████▍    | 27/50 [00:56<00:46,  2.02s/epoch]"
          ]
        },
        {
          "output_type": "stream",
          "name": "stdout",
          "text": [
            "Epoch: 27  | time in 0 minutes, 56 seconds\n",
            "\tLoss: 0.0342(train)\t|\tAcc: 62.5%(train)\n",
            "\tLoss: 0.0343(valid)\t|\tAcc: 61.0%(valid)\n"
          ]
        },
        {
          "output_type": "stream",
          "name": "stderr",
          "text": [
            "\rTraining Progress:  56%|█████▌    | 28/50 [00:58<00:46,  2.12s/epoch]"
          ]
        },
        {
          "output_type": "stream",
          "name": "stdout",
          "text": [
            "Epoch: 28  | time in 0 minutes, 58 seconds\n",
            "\tLoss: 0.0344(train)\t|\tAcc: 62.7%(train)\n",
            "\tLoss: 0.0358(valid)\t|\tAcc: 61.0%(valid)\n"
          ]
        },
        {
          "output_type": "stream",
          "name": "stderr",
          "text": [
            "\rTraining Progress:  58%|█████▊    | 29/50 [01:00<00:46,  2.23s/epoch]"
          ]
        },
        {
          "output_type": "stream",
          "name": "stdout",
          "text": [
            "Epoch: 29  | time in 1 minutes, 0 seconds\n",
            "\tLoss: 0.0346(train)\t|\tAcc: 62.2%(train)\n",
            "\tLoss: 0.0345(valid)\t|\tAcc: 61.5%(valid)\n"
          ]
        },
        {
          "output_type": "stream",
          "name": "stderr",
          "text": [
            "\rTraining Progress:  60%|██████    | 30/50 [01:03<00:43,  2.18s/epoch]"
          ]
        },
        {
          "output_type": "stream",
          "name": "stdout",
          "text": [
            "Epoch: 30  | time in 1 minutes, 3 seconds\n",
            "\tLoss: 0.0342(train)\t|\tAcc: 62.9%(train)\n",
            "\tLoss: 0.0351(valid)\t|\tAcc: 61.4%(valid)\n"
          ]
        },
        {
          "output_type": "stream",
          "name": "stderr",
          "text": [
            "\rTraining Progress:  62%|██████▏   | 31/50 [01:05<00:40,  2.12s/epoch]"
          ]
        },
        {
          "output_type": "stream",
          "name": "stdout",
          "text": [
            "Epoch: 31  | time in 1 minutes, 5 seconds\n",
            "\tLoss: 0.0341(train)\t|\tAcc: 62.7%(train)\n",
            "\tLoss: 0.0351(valid)\t|\tAcc: 61.7%(valid)\n"
          ]
        },
        {
          "output_type": "stream",
          "name": "stderr",
          "text": [
            "\rTraining Progress:  64%|██████▍   | 32/50 [01:06<00:37,  2.07s/epoch]"
          ]
        },
        {
          "output_type": "stream",
          "name": "stdout",
          "text": [
            "Epoch: 32  | time in 1 minutes, 6 seconds\n",
            "\tLoss: 0.0344(train)\t|\tAcc: 62.9%(train)\n",
            "\tLoss: 0.0351(valid)\t|\tAcc: 61.2%(valid)\n"
          ]
        },
        {
          "output_type": "stream",
          "name": "stderr",
          "text": [
            "\rTraining Progress:  66%|██████▌   | 33/50 [01:08<00:34,  2.04s/epoch]"
          ]
        },
        {
          "output_type": "stream",
          "name": "stdout",
          "text": [
            "Epoch: 33  | time in 1 minutes, 8 seconds\n",
            "\tLoss: 0.0345(train)\t|\tAcc: 62.2%(train)\n",
            "\tLoss: 0.0340(valid)\t|\tAcc: 61.8%(valid)\n"
          ]
        },
        {
          "output_type": "stream",
          "name": "stderr",
          "text": [
            "\rTraining Progress:  68%|██████▊   | 34/50 [01:10<00:32,  2.03s/epoch]"
          ]
        },
        {
          "output_type": "stream",
          "name": "stdout",
          "text": [
            "Epoch: 34  | time in 1 minutes, 10 seconds\n",
            "\tLoss: 0.0342(train)\t|\tAcc: 62.8%(train)\n",
            "\tLoss: 0.0362(valid)\t|\tAcc: 61.3%(valid)\n"
          ]
        },
        {
          "output_type": "stream",
          "name": "stderr",
          "text": [
            "\rTraining Progress:  70%|███████   | 35/50 [01:13<00:31,  2.10s/epoch]"
          ]
        },
        {
          "output_type": "stream",
          "name": "stdout",
          "text": [
            "Epoch: 35  | time in 1 minutes, 13 seconds\n",
            "\tLoss: 0.0342(train)\t|\tAcc: 62.3%(train)\n",
            "\tLoss: 0.0405(valid)\t|\tAcc: 61.1%(valid)\n"
          ]
        },
        {
          "output_type": "stream",
          "name": "stderr",
          "text": [
            "\rTraining Progress:  72%|███████▏  | 36/50 [01:15<00:31,  2.23s/epoch]"
          ]
        },
        {
          "output_type": "stream",
          "name": "stdout",
          "text": [
            "Epoch: 36  | time in 1 minutes, 15 seconds\n",
            "\tLoss: 0.0341(train)\t|\tAcc: 62.6%(train)\n",
            "\tLoss: 0.0344(valid)\t|\tAcc: 61.5%(valid)\n"
          ]
        },
        {
          "output_type": "stream",
          "name": "stderr",
          "text": [
            "\rTraining Progress:  74%|███████▍  | 37/50 [01:18<00:29,  2.28s/epoch]"
          ]
        },
        {
          "output_type": "stream",
          "name": "stdout",
          "text": [
            "Epoch: 37  | time in 1 minutes, 18 seconds\n",
            "\tLoss: 0.0341(train)\t|\tAcc: 62.7%(train)\n",
            "\tLoss: 0.0348(valid)\t|\tAcc: 62.3%(valid)\n"
          ]
        },
        {
          "output_type": "stream",
          "name": "stderr",
          "text": [
            "\rTraining Progress:  76%|███████▌  | 38/50 [01:20<00:25,  2.17s/epoch]"
          ]
        },
        {
          "output_type": "stream",
          "name": "stdout",
          "text": [
            "Epoch: 38  | time in 1 minutes, 20 seconds\n",
            "\tLoss: 0.0342(train)\t|\tAcc: 62.8%(train)\n",
            "\tLoss: 0.0352(valid)\t|\tAcc: 61.9%(valid)\n"
          ]
        },
        {
          "output_type": "stream",
          "name": "stderr",
          "text": [
            "\rTraining Progress:  78%|███████▊  | 39/50 [01:21<00:22,  2.07s/epoch]"
          ]
        },
        {
          "output_type": "stream",
          "name": "stdout",
          "text": [
            "Epoch: 39  | time in 1 minutes, 21 seconds\n",
            "\tLoss: 0.0340(train)\t|\tAcc: 62.5%(train)\n",
            "\tLoss: 0.0342(valid)\t|\tAcc: 61.7%(valid)\n"
          ]
        },
        {
          "output_type": "stream",
          "name": "stderr",
          "text": [
            "\rTraining Progress:  80%|████████  | 40/50 [01:23<00:20,  2.02s/epoch]"
          ]
        },
        {
          "output_type": "stream",
          "name": "stdout",
          "text": [
            "Epoch: 40  | time in 1 minutes, 23 seconds\n",
            "\tLoss: 0.0342(train)\t|\tAcc: 62.6%(train)\n",
            "\tLoss: 0.0347(valid)\t|\tAcc: 61.5%(valid)\n"
          ]
        },
        {
          "output_type": "stream",
          "name": "stderr",
          "text": [
            "\rTraining Progress:  82%|████████▏ | 41/50 [01:25<00:17,  1.99s/epoch]"
          ]
        },
        {
          "output_type": "stream",
          "name": "stdout",
          "text": [
            "Epoch: 41  | time in 1 minutes, 25 seconds\n",
            "\tLoss: 0.0342(train)\t|\tAcc: 62.8%(train)\n",
            "\tLoss: 0.0383(valid)\t|\tAcc: 63.2%(valid)\n"
          ]
        },
        {
          "output_type": "stream",
          "name": "stderr",
          "text": [
            "\rTraining Progress:  84%|████████▍ | 42/50 [01:28<00:18,  2.32s/epoch]"
          ]
        },
        {
          "output_type": "stream",
          "name": "stdout",
          "text": [
            "Epoch: 42  | time in 1 minutes, 28 seconds\n",
            "\tLoss: 0.0345(train)\t|\tAcc: 62.4%(train)\n",
            "\tLoss: 0.0342(valid)\t|\tAcc: 62.0%(valid)\n"
          ]
        },
        {
          "output_type": "stream",
          "name": "stderr",
          "text": [
            "\rTraining Progress:  86%|████████▌ | 43/50 [01:32<00:18,  2.64s/epoch]"
          ]
        },
        {
          "output_type": "stream",
          "name": "stdout",
          "text": [
            "Epoch: 43  | time in 1 minutes, 32 seconds\n",
            "\tLoss: 0.0342(train)\t|\tAcc: 62.7%(train)\n",
            "\tLoss: 0.0358(valid)\t|\tAcc: 61.0%(valid)\n"
          ]
        },
        {
          "output_type": "stream",
          "name": "stderr",
          "text": [
            "\rTraining Progress:  88%|████████▊ | 44/50 [01:34<00:14,  2.43s/epoch]"
          ]
        },
        {
          "output_type": "stream",
          "name": "stdout",
          "text": [
            "Epoch: 44  | time in 1 minutes, 34 seconds\n",
            "\tLoss: 0.0340(train)\t|\tAcc: 62.5%(train)\n",
            "\tLoss: 0.0349(valid)\t|\tAcc: 61.1%(valid)\n"
          ]
        },
        {
          "output_type": "stream",
          "name": "stderr",
          "text": [
            "\rTraining Progress:  90%|█████████ | 45/50 [01:36<00:11,  2.29s/epoch]"
          ]
        },
        {
          "output_type": "stream",
          "name": "stdout",
          "text": [
            "Epoch: 45  | time in 1 minutes, 36 seconds\n",
            "\tLoss: 0.0339(train)\t|\tAcc: 62.6%(train)\n",
            "\tLoss: 0.0346(valid)\t|\tAcc: 61.7%(valid)\n"
          ]
        },
        {
          "output_type": "stream",
          "name": "stderr",
          "text": [
            "\rTraining Progress:  92%|█████████▏| 46/50 [01:37<00:08,  2.16s/epoch]"
          ]
        },
        {
          "output_type": "stream",
          "name": "stdout",
          "text": [
            "Epoch: 46  | time in 1 minutes, 37 seconds\n",
            "\tLoss: 0.0341(train)\t|\tAcc: 62.7%(train)\n",
            "\tLoss: 0.0351(valid)\t|\tAcc: 61.3%(valid)\n"
          ]
        },
        {
          "output_type": "stream",
          "name": "stderr",
          "text": [
            "\rTraining Progress:  94%|█████████▍| 47/50 [01:39<00:06,  2.07s/epoch]"
          ]
        },
        {
          "output_type": "stream",
          "name": "stdout",
          "text": [
            "Epoch: 47  | time in 1 minutes, 39 seconds\n",
            "\tLoss: 0.0341(train)\t|\tAcc: 62.5%(train)\n",
            "\tLoss: 0.0347(valid)\t|\tAcc: 61.5%(valid)\n"
          ]
        },
        {
          "output_type": "stream",
          "name": "stderr",
          "text": [
            "\rTraining Progress:  96%|█████████▌| 48/50 [01:41<00:04,  2.04s/epoch]"
          ]
        },
        {
          "output_type": "stream",
          "name": "stdout",
          "text": [
            "Epoch: 48  | time in 1 minutes, 41 seconds\n",
            "\tLoss: 0.0340(train)\t|\tAcc: 62.8%(train)\n",
            "\tLoss: 0.0359(valid)\t|\tAcc: 61.7%(valid)\n"
          ]
        },
        {
          "output_type": "stream",
          "name": "stderr",
          "text": [
            "\rTraining Progress:  98%|█████████▊| 49/50 [01:43<00:02,  2.09s/epoch]"
          ]
        },
        {
          "output_type": "stream",
          "name": "stdout",
          "text": [
            "Epoch: 49  | time in 1 minutes, 44 seconds\n",
            "\tLoss: 0.0342(train)\t|\tAcc: 62.8%(train)\n",
            "\tLoss: 0.0351(valid)\t|\tAcc: 61.6%(valid)\n"
          ]
        },
        {
          "output_type": "stream",
          "name": "stderr",
          "text": [
            "Training Progress: 100%|██████████| 50/50 [01:46<00:00,  2.13s/epoch]"
          ]
        },
        {
          "output_type": "stream",
          "name": "stdout",
          "text": [
            "Epoch: 50  | time in 1 minutes, 46 seconds\n",
            "\tLoss: 0.0339(train)\t|\tAcc: 62.7%(train)\n",
            "\tLoss: 0.0357(valid)\t|\tAcc: 61.1%(valid)\n"
          ]
        },
        {
          "output_type": "stream",
          "name": "stderr",
          "text": [
            "\n"
          ]
        },
        {
          "output_type": "execute_result",
          "data": {
            "text/plain": [
              "<All keys matched successfully>"
            ]
          },
          "metadata": {},
          "execution_count": 14
        }
      ],
      "execution_count": 14,
      "metadata": {
        "id": "7jZlVVTdVqhx",
        "colab": {
          "base_uri": "https://localhost:8080/"
        },
        "outputId": "8f0a4adb-7a5c-4bde-9855-524f4dbcf721"
      }
    },
    {
      "cell_type": "markdown",
      "source": [
        "#Final Conclusions.\n",
        "\n",
        "\n",
        "---\n",
        "\n"
      ],
      "metadata": {
        "id": "lCsPgdD00Vs8"
      }
    },
    {
      "cell_type": "markdown",
      "source": [
        "As seen, the accuracy seems to be capping off at **66%.** It is also determined that deeper neural nets (adding another linear layer) decreases the accuracy by a lot. This can be tried by adding the layer in neural class using the specified hidden sizes. Fixes to this problem require implementing a better architecture and improving the layers. For example:\n",
        "\n",
        "\n",
        "1.   For our current network, the embedding layer is being implemented from scratch. This could be replaced by pre-trained word vectors such as word2vec from Google. This will increase the accuracy by a lot because the network doesn't have to learn the embeddings and weights at the same time.\n",
        "2.   Implementing transformers or convolution neural networks can vastly change the accuracy because of their streamlined architecture. CNNs are naturally suited for capturing features that are translationally invariant. In text, this can be beneficial for identifying similar patterns or features regardless of their position in the sentence.\n",
        "3. Better pre-processing for the text such as removing stop words, punctuation, converting tokens to their lemmas might also help with the model by making the input text easier to understand make patterns out of.\n"
      ],
      "metadata": {
        "id": "m5Ikbci5yb4n"
      }
    }
  ],
  "metadata": {
    "colab": {
      "provenance": []
    },
    "kernelspec": {
      "name": "python3",
      "display_name": "Python 3"
    },
    "language_info": {
      "name": "python"
    },
    "nteract": {
      "version": "nteract-front-end@1.0.0"
    }
  },
  "nbformat": 4,
  "nbformat_minor": 0
}